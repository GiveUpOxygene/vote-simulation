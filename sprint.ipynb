{
 "cells": [
  {
<<<<<<< HEAD
=======
   "attachments": {},
>>>>>>> 6c9b2f981ef78f1817b63fc6d54d7a0fbf9301ae
   "cell_type": "markdown",
   "metadata": {},
   "source": [
    "---\n",
    "\n",
    "# Rendu de mini-sprint\n",
    "\n",
    "LU2IN013<br>\n",
    "Auteurs : Alexandre CORRIOU, Noah RAMANOELINA\n",
    "\n",
    "---"
   ]
  },
  {
<<<<<<< HEAD
=======
   "attachments": {},
>>>>>>> 6c9b2f981ef78f1817b63fc6d54d7a0fbf9301ae
   "cell_type": "markdown",
   "metadata": {},
   "source": [
    "## 1. Résultat des élections de 2017\n",
    "Nous avons créé un fichier csv contenant tous les candidats, le pourcentage de voix et une position déterminée approximativement grâce à la boussole donnée sur Moodle."
   ]
  },
  {
   "cell_type": "code",
<<<<<<< HEAD
   "execution_count": 23,
=======
   "execution_count": 2,
>>>>>>> 6c9b2f981ef78f1817b63fc6d54d7a0fbf9301ae
   "metadata": {},
   "outputs": [
    {
     "data": {
      "text/html": [
       "<div>\n",
       "<style scoped>\n",
       "    .dataframe tbody tr th:only-of-type {\n",
       "        vertical-align: middle;\n",
       "    }\n",
       "\n",
       "    .dataframe tbody tr th {\n",
       "        vertical-align: top;\n",
       "    }\n",
       "\n",
       "    .dataframe thead th {\n",
       "        text-align: right;\n",
       "    }\n",
       "</style>\n",
       "<table border=\"1\" class=\"dataframe\">\n",
       "  <thead>\n",
       "    <tr style=\"text-align: right;\">\n",
       "      <th></th>\n",
       "      <th>participant</th>\n",
       "      <th>percent</th>\n",
       "      <th>x</th>\n",
       "      <th>y</th>\n",
       "    </tr>\n",
       "  </thead>\n",
       "  <tbody>\n",
       "    <tr>\n",
       "      <th>0</th>\n",
       "      <td>Emmanuel MACRON</td>\n",
       "      <td>24.01</td>\n",
       "      <td>200</td>\n",
       "      <td>200</td>\n",
       "    </tr>\n",
       "    <tr>\n",
       "      <th>1</th>\n",
       "      <td>Marine LE-PEN</td>\n",
       "      <td>21.30</td>\n",
       "      <td>50</td>\n",
       "      <td>-250</td>\n",
       "    </tr>\n",
       "    <tr>\n",
       "      <th>2</th>\n",
       "      <td>Francois FILLON</td>\n",
       "      <td>20.01</td>\n",
       "      <td>400</td>\n",
       "      <td>-150</td>\n",
       "    </tr>\n",
       "    <tr>\n",
       "      <th>3</th>\n",
       "      <td>Jean-Luc MELENCHON</td>\n",
       "      <td>19.58</td>\n",
       "      <td>-350</td>\n",
       "      <td>20</td>\n",
       "    </tr>\n",
       "    <tr>\n",
       "      <th>4</th>\n",
       "      <td>Benoit HAMON</td>\n",
       "      <td>6.36</td>\n",
       "      <td>-200</td>\n",
       "      <td>300</td>\n",
       "    </tr>\n",
       "  </tbody>\n",
       "</table>\n",
       "</div>"
      ],
      "text/plain": [
       "          participant  percent    x    y\n",
       "0     Emmanuel MACRON    24.01  200  200\n",
       "1       Marine LE-PEN    21.30   50 -250\n",
       "2     Francois FILLON    20.01  400 -150\n",
       "3  Jean-Luc MELENCHON    19.58 -350   20\n",
       "4        Benoit HAMON     6.36 -200  300"
      ]
     },
<<<<<<< HEAD
     "execution_count": 23,
=======
     "execution_count": 2,
>>>>>>> 6c9b2f981ef78f1817b63fc6d54d7a0fbf9301ae
     "metadata": {},
     "output_type": "execute_result"
    }
   ],
   "source": [
    "import pandas as pd\n",
    "\n",
    "# Read the data from sprint_data.csv\n",
    "data = pd.read_csv('sprint_data.csv')\n",
    "data.head()"
   ]
  },
  {
   "cell_type": "code",
<<<<<<< HEAD
   "execution_count": 40,
=======
   "execution_count": 26,
>>>>>>> 6c9b2f981ef78f1817b63fc6d54d7a0fbf9301ae
   "metadata": {},
   "outputs": [],
   "source": [
    "from Classes import *\n",
<<<<<<< HEAD
=======
    "from votes import *\n",
>>>>>>> 6c9b2f981ef78f1817b63fc6d54d7a0fbf9301ae
    "import main as voting"
   ]
  },
  {
<<<<<<< HEAD
=======
   "attachments": {},
>>>>>>> 6c9b2f981ef78f1817b63fc6d54d7a0fbf9301ae
   "cell_type": "markdown",
   "metadata": {},
   "source": [
    "Nous devons charger dans l'application les données (transformées) de ce fichier csv."
   ]
  },
  {
   "cell_type": "code",
<<<<<<< HEAD
   "execution_count": 27,
=======
   "execution_count": 4,
>>>>>>> 6c9b2f981ef78f1817b63fc6d54d7a0fbf9301ae
   "metadata": {},
   "outputs": [],
   "source": [
    "#write on a new txt file\n",
    "file = open(\"./files/candidats.elct\", \"w+\",encoding=\"utf-8\")\n",
    "file.write(\"<appearance>\\n#ffffff\\n#ff0000\\n#70afea\\n10\\n1\\n</appearance>\\n\")\n",
    "file.write(\"<voters>\\nVotant_n° 11 a a [ 0 , 0 ]\\n</voters>\\n\")\n",
    "i = 0\n",
    "file.write(\"<candidates>\\n\")\n",
    "for name, x, y  in zip(data['participant'], data['x'], data['y']):\n",
    "    file.write(\"Candidate_n° \" + str(i) + \" \" + name + \" [ \" + str(x) + \" , \" + str(y) + \" ]\" + \"\\n\")\n",
    "    i += 1\n",
    "file.write(\"</candidates>\\n\")\n",
    "file.close()\n"
   ]
  },
  {
<<<<<<< HEAD
=======
   "attachments": {},
>>>>>>> 6c9b2f981ef78f1817b63fc6d54d7a0fbf9301ae
   "cell_type": "markdown",
   "metadata": {},
   "source": [
    "On veut trouver une répartition de 1000 votants qui satisfasse les contraintes de pourcentages de voix données dans le csv.\n",
    "On ajoute dans data une colonne donnant le nombre de votants que chaque candidat doit obtenir."
   ]
  },
  {
   "cell_type": "code",
<<<<<<< HEAD
   "execution_count": 33,
=======
   "execution_count": 5,
>>>>>>> 6c9b2f981ef78f1817b63fc6d54d7a0fbf9301ae
   "metadata": {},
   "outputs": [
    {
     "data": {
      "text/html": [
       "<div>\n",
       "<style scoped>\n",
       "    .dataframe tbody tr th:only-of-type {\n",
       "        vertical-align: middle;\n",
       "    }\n",
       "\n",
       "    .dataframe tbody tr th {\n",
       "        vertical-align: top;\n",
       "    }\n",
       "\n",
       "    .dataframe thead th {\n",
       "        text-align: right;\n",
       "    }\n",
       "</style>\n",
       "<table border=\"1\" class=\"dataframe\">\n",
       "  <thead>\n",
       "    <tr style=\"text-align: right;\">\n",
       "      <th></th>\n",
       "      <th>participant</th>\n",
       "      <th>percent</th>\n",
       "      <th>nombre_voix</th>\n",
       "    </tr>\n",
       "  </thead>\n",
       "  <tbody>\n",
       "    <tr>\n",
       "      <th>0</th>\n",
       "      <td>Emmanuel MACRON</td>\n",
       "      <td>24.01</td>\n",
       "      <td>240</td>\n",
       "    </tr>\n",
       "    <tr>\n",
       "      <th>1</th>\n",
       "      <td>Marine LE-PEN</td>\n",
       "      <td>21.30</td>\n",
       "      <td>213</td>\n",
       "    </tr>\n",
       "    <tr>\n",
       "      <th>2</th>\n",
       "      <td>Francois FILLON</td>\n",
       "      <td>20.01</td>\n",
       "      <td>200</td>\n",
       "    </tr>\n",
       "    <tr>\n",
       "      <th>3</th>\n",
       "      <td>Jean-Luc MELENCHON</td>\n",
       "      <td>19.58</td>\n",
       "      <td>195</td>\n",
       "    </tr>\n",
       "    <tr>\n",
       "      <th>4</th>\n",
       "      <td>Benoit HAMON</td>\n",
       "      <td>6.36</td>\n",
       "      <td>63</td>\n",
       "    </tr>\n",
       "    <tr>\n",
       "      <th>5</th>\n",
       "      <td>Nicolas DUPONT-AIGNAN</td>\n",
       "      <td>4.70</td>\n",
       "      <td>47</td>\n",
       "    </tr>\n",
       "    <tr>\n",
       "      <th>6</th>\n",
       "      <td>Jean LASSALLE</td>\n",
       "      <td>1.21</td>\n",
       "      <td>12</td>\n",
       "    </tr>\n",
       "    <tr>\n",
       "      <th>7</th>\n",
       "      <td>Philippe POUTOU</td>\n",
       "      <td>1.09</td>\n",
       "      <td>10</td>\n",
       "    </tr>\n",
       "    <tr>\n",
       "      <th>8</th>\n",
       "      <td>Francois ASSELINEAU</td>\n",
       "      <td>0.92</td>\n",
       "      <td>9</td>\n",
       "    </tr>\n",
       "    <tr>\n",
       "      <th>9</th>\n",
       "      <td>Nathalie ARTHAUD</td>\n",
       "      <td>0.64</td>\n",
       "      <td>6</td>\n",
       "    </tr>\n",
       "    <tr>\n",
       "      <th>10</th>\n",
       "      <td>Jacques CHEMINADE</td>\n",
       "      <td>0.18</td>\n",
       "      <td>1</td>\n",
       "    </tr>\n",
       "  </tbody>\n",
       "</table>\n",
       "</div>"
      ],
      "text/plain": [
       "              participant  percent  nombre_voix\n",
       "0         Emmanuel MACRON    24.01          240\n",
       "1           Marine LE-PEN    21.30          213\n",
       "2         Francois FILLON    20.01          200\n",
       "3      Jean-Luc MELENCHON    19.58          195\n",
       "4            Benoit HAMON     6.36           63\n",
       "5   Nicolas DUPONT-AIGNAN     4.70           47\n",
       "6           Jean LASSALLE     1.21           12\n",
       "7         Philippe POUTOU     1.09           10\n",
       "8     Francois ASSELINEAU     0.92            9\n",
       "9        Nathalie ARTHAUD     0.64            6\n",
       "10      Jacques CHEMINADE     0.18            1"
      ]
     },
<<<<<<< HEAD
     "execution_count": 33,
=======
     "execution_count": 5,
>>>>>>> 6c9b2f981ef78f1817b63fc6d54d7a0fbf9301ae
     "metadata": {},
     "output_type": "execute_result"
    }
   ],
   "source": [
    "num_voix = [int(10*x) for x in data['percent']]\n",
    "data['nombre_voix'] = num_voix\n",
    "data[['participant','percent', 'nombre_voix']]"
   ]
  },
  {
<<<<<<< HEAD
=======
   "attachments": {},
>>>>>>> 6c9b2f981ef78f1817b63fc6d54d7a0fbf9301ae
   "cell_type": "markdown",
   "metadata": {},
   "source": [
    "On teste d'abord une répartition uniforme et une répartition gaussienne des candidats."
   ]
  },
  {
   "cell_type": "code",
<<<<<<< HEAD
   "execution_count": 36,
=======
   "execution_count": 6,
>>>>>>> 6c9b2f981ef78f1817b63fc6d54d7a0fbf9301ae
   "metadata": {},
   "outputs": [],
   "source": [
    "import random\n",
    "import numpy as np\n",
    "random.seed(42)\n",
    "file = open(\"./files/candidats.elct\", \"w+\",encoding=\"utf-8\")\n",
    "file.write(\"<appearance>\\n#ffffff\\n#ff0000\\n#70afea\\n10\\n1\\n</appearance>\\n\")\n",
    "i = 0\n",
    "file.write(\"<voters>\\n\")\n",
    "for j in range(0,1000):\n",
    "    file.write(\"Votant_n° \" + str(j) + \" a a [ \" + str(random.randint(-400,400)) + \" , \" + str(random.randint(-400,400)) + \" ]\" + \"\\n\")\n",
    "    i += 1\n",
    "file.write(\"</voters>\\n\")\n",
    "file.write(\"<candidates>\\n\")\n",
    "for name, x, y  in zip(data['participant'], data['x'], data['y']):\n",
    "    file.write(\"Candidate_n° \" + str(i) + \" \" + name + \" [ \" + str(x) + \" , \" + str(y) + \" ]\" + \"\\n\")\n",
    "    i += 1\n",
    "file.write(\"</candidates>\\n\")\n",
    "file.close()"
   ]
  },
  {
<<<<<<< HEAD
=======
   "attachments": {},
>>>>>>> 6c9b2f981ef78f1817b63fc6d54d7a0fbf9301ae
   "cell_type": "markdown",
   "metadata": {},
   "source": [
    "On utilise une seed pour garantir la reproductibilité des résultats.\n",
    "Les résultats obtenus avec cette répartition sont les suivants : <br>\n",
    "|ID | Candidat | Nombre de votants |\n",
    "|---|----------|-------------------|\n",
    "|0|\tEmmanuel MACRON\t|260|\n",
    "|1|\tMarine LE-PEN|127|\n",
    "|2|\tFrancois FILLON|107|\n",
    "|8|\tFrancois ASSELINEAU\t|97|\n",
    "|6|\tJean LASSALLE|\t88|\n",
    "|10|Jacques CHEMINADE|\t84|\n",
    "|4|\tBenoit HAMON|76|\n",
    "|5|\tNicolas DUPONT-AIGNAN|\t65|\n",
    "|7|\tPhilippe POUTOU|\t37|\n",
    "|3|\tJean-Luc MELENCHON|\t37|\n",
    "|9|\tNathalie ARTHAUD|22|<br>\n",
    "\n",
    "On peut voir que les résultats sont radicalement différents de ceux attendus."
   ]
  },
  {
   "cell_type": "code",
<<<<<<< HEAD
   "execution_count": 38,
=======
   "execution_count": 7,
>>>>>>> 6c9b2f981ef78f1817b63fc6d54d7a0fbf9301ae
   "metadata": {},
   "outputs": [],
   "source": [
    "np.random.seed(42)\n",
    "file = open(\"./files/candidats.elct\", \"w+\",encoding=\"utf-8\")\n",
    "file.write(\"<appearance>\\n#ffffff\\n#ff0000\\n#70afea\\n10\\n1\\n</appearance>\\n\")\n",
    "i = 0\n",
    "file.write(\"<voters>\\n\")\n",
    "for j in range(0,1000):\n",
    "    file.write(\"Votant_n° \" + str(j) + \" a a [ \" + str(int(np.random.normal(loc=0,scale=200))) + \" , \" + str(int(np.random.normal(loc=0,scale=200))) + \" ]\" + \"\\n\")\n",
    "    i += 1\n",
    "file.write(\"</voters>\\n\")\n",
    "file.write(\"<candidates>\\n\")\n",
    "for name, x, y  in zip(data['participant'], data['x'], data['y']):\n",
    "    file.write(\"Candidate_n° \" + str(i) + \" \" + name + \" [ \" + str(x) + \" , \" + str(y) + \" ]\" + \"\\n\")\n",
    "    i += 1\n",
    "file.write(\"</candidates>\\n\")\n",
    "file.close()"
   ]
  },
  {
<<<<<<< HEAD
=======
   "attachments": {},
>>>>>>> 6c9b2f981ef78f1817b63fc6d54d7a0fbf9301ae
   "cell_type": "markdown",
   "metadata": {},
   "source": [
    "Les résultats obtenus avec la répartition gaussienne sont les suivants : <br>\n",
    "|ID | Candidat | Nombre de votants |\n",
    "|---|----------|-------------------|\n",
    "|0|\tEmmanuel MACRON\t|255|\n",
    "|1|\tMarine LE-PEN|177|\n",
    "|8|\tFrancois ASSELINEAU\t|159|\n",
    "|10|Jacques CHEMINADE|\t133|\n",
    "|2|\tFrancois FILLON|73|\n",
    "|4|\tBenoit HAMON|55|\n",
    "|5|\tNicolas DUPONT-AIGNAN|\t48|\n",
    "|6|\tJean LASSALLE|\t46|\n",
    "|3|\tJean-Luc MELENCHON|\t27|\n",
    "|9|\tNathalie ARTHAUD|15|\n",
    "|7|\tPhilippe POUTOU|12|\n",
    "\n",
    "\n",
    "Des résultats encore une fois bien loin de la réalité pour les candidats après les deux premières places."
   ]
  },
  {
<<<<<<< HEAD
=======
   "attachments": {},
>>>>>>> 6c9b2f981ef78f1817b63fc6d54d7a0fbf9301ae
   "cell_type": "markdown",
   "metadata": {},
   "source": [
    "On définit l'erreur totale comme étant égale à la somme des erreurs entre les résultats de chaque candidats avec la répartition actuelle et les résultats obtenus à la vraie élection.\n",
    "\n",
    "/!\\ Le code suivant est un patchwork de code provenant des différent fichiers /!\\"
   ]
  },
  {
   "cell_type": "code",
<<<<<<< HEAD
   "execution_count": 81,
=======
   "execution_count": 27,
>>>>>>> 6c9b2f981ef78f1817b63fc6d54d7a0fbf9301ae
   "metadata": {},
   "outputs": [
    {
     "name": "stdout",
     "output_type": "stream",
     "text": [
<<<<<<< HEAD
      "Emmanuel MACRON 25.5%\n",
      "Marine LE-PEN 17.7%\n",
      "Francois FILLON 7.3%\n",
      "Jean-Luc MELENCHON 2.7%\n",
      "Benoit HAMON 5.5%\n",
      "Nicolas DUPONT-AIGNAN 4.8%\n",
      "Jean LASSALLE 4.6%\n",
      "Philippe POUTOU 1.2%\n",
      "Francois ASSELINEAU 15.9%\n",
      "Nathalie ARTHAUD 1.5%\n",
      "Jacques CHEMINADE 13.3%\n",
      "erreur totale : 68.10000000000001\n"
=======
      "Emmanuel MACRON 23.6%\n",
      "Marine LE-PEN 23.4%\n",
      "Francois FILLON 13.7%\n",
      "Jean-Luc MELENCHON 1.8%\n",
      "Benoit HAMON 2.8%\n",
      "Nicolas DUPONT-AIGNAN 7.0%\n",
      "Jean LASSALLE 3.1%\n",
      "Philippe POUTOU 0.3%\n",
      "Francois ASSELINEAU 10.2%\n",
      "Nathalie ARTHAUD 1.0%\n",
      "Jacques CHEMINADE 13.1%\n",
      "erreur totale : 57.699999999999996\n"
>>>>>>> 6c9b2f981ef78f1817b63fc6d54d7a0fbf9301ae
     ]
    }
   ],
   "source": [
    "class notebook() :   \n",
    "    \n",
    "    def __init__(self):\n",
    "        self.resetParticipants()\n",
    "        \n",
    "    def __repr__(self) -> str:\n",
    "        ret = \"\"\n",
    "        for cand in self.dictcandidates.values():\n",
    "            ret += str(cand) + \"\\n\"\n",
    "        ret += \"\\n\\n\"\n",
    "        for voter in self.dictvoters.values():\n",
    "            ret += str(voter) + \"\\n\"\n",
    "        return ret\n",
    "    \n",
    "    #-------Participant-------#\n",
    "    def resetParticipants(self):\n",
    "        self.dictcandidates = dict()\n",
    "        self.dictvoters = dict()\n",
    "        self.place_voters = False\n",
    "        Candidate.idCounter=0\n",
    "        Voter.idCounter=0\n",
    "    #------End Participant------#\n",
    "    \n",
    "    def reset(self):\n",
<<<<<<< HEAD
    "        pass\n",
=======
    "        self.resetParticipants()\n",
>>>>>>> 6c9b2f981ef78f1817b63fc6d54d7a0fbf9301ae
    "    \n",
    "    def addCandidate(self,candidate):\n",
    "        self.dictcandidates[candidate.id] = candidate\n",
    "\n",
    "    def addVoter(self,voter):\n",
    "        self.dictvoters[voter.id] = voter\n",
    "        \n",
    "    def openFile(self):\n",
<<<<<<< HEAD
=======
    "        self.reset()\n",
>>>>>>> 6c9b2f981ef78f1817b63fc6d54d7a0fbf9301ae
    "        filePath = \"./files/candidats.elct\"\n",
    "        self.filePath=filePath\n",
    "        words=filePath.split(\"/\")\n",
    "        self.name=words[len(words)-1]\n",
    "        file=open(self.filePath,\"r\", encoding=\"utf8\")\n",
    "        self.reset()\n",
    "\n",
    "        #Lecture des élements du style\n",
    "        line=file.readline()\n",
    "        assert(line==\"<appearance>\\n\")\n",
    "        line=file.readline()\n",
    "        words=line.split(\"\\n\")\n",
    "        self.candidateColor=words[0]\n",
    "        line=file.readline()\n",
    "        words=line.split(\"\\n\")\n",
    "        self.voterColor=words[0]\n",
    "        line=file.readline()\n",
    "        words=line.split(\"\\n\")\n",
    "        self.backgroundColor=words[0]\n",
    "        line=file.readline()\n",
    "        words=line.split(\"\\n\")\n",
    "        self.candidatePointsize=int(words[0])\n",
    "        words=line.split(\"\\n\")\n",
    "        line=file.readline()\n",
    "        words=line.split(\"\\n\")\n",
    "        self.voterPointsize=int(words[0])\n",
    "        words=line.split(\"\\n\")\n",
    "        line=file.readline()\n",
    "        assert(line==\"</appearance>\\n\")\n",
    "\n",
    "        #Lecture des votants\n",
    "        line=file.readline()\n",
    "        assert(line==\"<voters>\\n\")\n",
    "        line=file.readline()    \n",
    "        while line!=\"</voters>\\n\":\n",
    "            words=line.split(\" \")\n",
    "            id=words[1]\n",
    "            firstname=words[2]\n",
    "            lastname=words[3]\n",
    "            x=words[5]\n",
    "            y=words[7]\n",
    "            self.newVoter=Voter(firstname,lastname,x,y)\n",
    "            self.addVoter(self.newVoter)\n",
    "            line=file.readline()\n",
    "\n",
    "        #Lecture des candidats\n",
    "        line=file.readline()\n",
    "        assert(line==\"<candidates>\\n\")\n",
    "        line=file.readline()\n",
    "        while line!=\"</candidates>\\n\":\n",
    "            words=line.split(\" \")\n",
    "            id=words[1]\n",
    "            firstname=words[2]\n",
    "            lastname=words[3]\n",
    "            x=words[5]\n",
    "            y=words[7]\n",
    "            self.newCandidate=Candidate(firstname,lastname,x,y)\n",
    "            self.addCandidate(self.newCandidate)\n",
    "            line=file.readline()\n",
    "        file.close()\n",
    "        \n",
    "def plurality(candidates, voters):\n",
    "    \"\"\"Dict[int,Candidate] * Dict[int,Voter] -> None\n",
    "    Args:\n",
    "        candidates (dict): dictionnaire de la forme : id_candidate : Candidate\n",
    "        voters (dict): dictionnaire de la forme : id_voter : Voter\n",
    "    \"\"\"\n",
<<<<<<< HEAD
=======
    "    resetElections(candidates)\n",
>>>>>>> 6c9b2f981ef78f1817b63fc6d54d7a0fbf9301ae
    "    best = n_best_votes(candidates, voters, 1)\n",
    "    for (voter,listCandidates) in best.items():\n",
    "        (voters[voter]).voteFor(candidates[listCandidates[0]])\n",
    "    \n",
    "    \n",
    "\n",
    "def erreur_totale(candidates, voters):\n",
    "    sum = 0\n",
<<<<<<< HEAD
    "    i=0\n",
    "    for (_,v) in test.dictcandidates.items():\n",
    "        sum += np.abs(v.score/10 - data['percent'][i])\n",
    "        i += 1\n",
=======
    "    for (_,v) in test.dictcandidates.items():\n",
    "        # print(v.score/10 -float(data.loc[data['participant']==v.firstName + \" \" + v.lastName]['percent']))\n",
    "        sum += np.abs(v.score/10 - float(data.loc[data['participant']==v.firstName + \" \" + v.lastName]['percent']))\n",
>>>>>>> 6c9b2f981ef78f1817b63fc6d54d7a0fbf9301ae
    "    return sum\n",
    "    \n",
    "        \n",
    "        \n",
    "test = notebook()\n",
    "test.openFile()\n",
    "plurality(test.dictcandidates, test.dictvoters)\n",
    "for (_,v) in test.dictcandidates.items():\n",
    "    print(v.firstName + \" \" + v.lastName + \" \" + str(v.score/10) + \"%\")\n",
    "    \n",
    "print(\"erreur totale : \"  + str(erreur_totale(test.dictcandidates, test.dictvoters)))"
   ]
  },
  {
<<<<<<< HEAD
   "cell_type": "markdown",
   "metadata": {},
   "source": [
    "Pour trouver une répartition qui minimise l'erreur totale, on va tenter de minimiser l'erreur totale."
=======
   "attachments": {},
   "cell_type": "markdown",
   "metadata": {},
   "source": [
    "Pour trouver une répartition qui minimise l'erreur totale, on va tenter de minimiser l'erreur totale avec un algorithme de descente. On bouge aléatoirement dans l'espace des répartitions possibles et on garde la répartition qui minimise l'erreur totale. On répète l'opération jusqu'à trouver une erreur totale inférieure à 50. Ce chiffre a été choisi car on ne peut pas être sûrs de trouver une répartition qui améliore beaucoup ce résultat."
>>>>>>> 6c9b2f981ef78f1817b63fc6d54d7a0fbf9301ae
   ]
  },
  {
   "cell_type": "code",
<<<<<<< HEAD
   "execution_count": null,
   "metadata": {},
   "outputs": [],
=======
   "execution_count": 28,
   "metadata": {},
   "outputs": [
    {
     "name": "stdout",
     "output_type": "stream",
     "text": [
      "71.5\n",
      "65.30000000000001 1\n",
      "10 0\n",
      "62.080000000000005 2\n",
      "20 10\n",
      "62.080000000000005 3\n",
      "20 10\n",
      "60.68 4\n",
      "20 0\n",
      "60.08 5\n",
      "30 -10\n",
      "58.47999999999999 6\n",
      "40 -20\n",
      "55.28 7\n",
      "40 -30\n",
      "52.88000000000001 8\n",
      "40 -20\n",
      "52.1 9\n",
      "50 -30\n",
      "52.1 10\n",
      "50 -30\n",
      "52.1 11\n",
      "50 -30\n",
      "52.1 12\n",
      "50 -30\n",
      "52.1 13\n",
      "50 -30\n",
      "52.1 14\n",
      "50 -30\n",
      "51.7 15\n",
      "60 -30\n",
      "51.7 16\n",
      "60 -30\n",
      "50.56 17\n",
      "70 -40\n",
      "50.56 18\n",
      "70 -40\n",
      "50.56 19\n",
      "70 -40\n",
      "45.879999999999995 20\n",
      "80 -40\n"
     ]
    }
   ],
>>>>>>> 6c9b2f981ef78f1817b63fc6d54d7a0fbf9301ae
   "source": [
    "def gaussian_writing(x:int,y:int):\n",
    "    file = open(\"./files/candidats.elct\", \"w+\",encoding=\"utf-8\")\n",
    "    file.write(\"<appearance>\\n#ffffff\\n#ff0000\\n#70afea\\n10\\n1\\n</appearance>\\n\")\n",
    "    i = 0\n",
    "    file.write(\"<voters>\\n\")\n",
    "    for j in range(0,1000):\n",
    "        file.write(\"Votant_n° \" + str(j) + \" a a [ \" + str(int(np.random.normal(loc=x,scale=200))) + \" , \" + str(int(np.random.normal(loc=y,scale=200))) + \" ]\" + \"\\n\")\n",
    "        i += 1\n",
    "    file.write(\"</voters>\\n\")\n",
    "    file.write(\"<candidates>\\n\")\n",
    "    for name, x, y  in zip(data['participant'], data['x'], data['y']):\n",
    "        file.write(\"Candidate_n° \" + str(i) + \" \" + name + \" [ \" + str(x) + \" , \" + str(y) + \" ]\" + \"\\n\")\n",
    "        i += 1\n",
    "    file.write(\"</candidates>\\n\")\n",
    "    file.close()\n",
    "\n",
    "erreur = 5000\n",
<<<<<<< HEAD
    "erreur_1 = 5000\n",
    "x,y = 0,0\n",
    "test = notebook()\n",
    "\n",
    "while erreur > 50:\n",
    "    gaussian_writing(x,y)\n",
    "    test.openFile()\n",
    "    plurality(test.dictcandidates, test.dictvoters)\n",
    "    erreur, erreur_1 = erreur_totale(test.dictcandidates, test.dictvoters), erreur\n",
    "    print(erreur)\n",
    "    pos_dict = dict()\n",
    "    \n",
    "        "
   ]
=======
    "x,y = 0,0\n",
    "N = 0\n",
    "test = notebook()\n",
    "mov_list = [(0,10), (0,-10), (10,0), (-10,0), (10,10), (10,-10), (-10,10), (-10,-10)]\n",
    "pos_list = [(0,0)]\n",
    "gaussian_writing(x,y)\n",
    "test.openFile()\n",
    "plurality(test.dictcandidates, test.dictvoters)\n",
    "erreur = erreur_totale(test.dictcandidates, test.dictvoters)\n",
    "print(erreur)\n",
    "\n",
    "while erreur > 50 :\n",
    "    N+=1\n",
    "    error_dict = dict()\n",
    "    error_dict[(x,y)] = erreur\n",
    "    for (x1,y1) in mov_list:\n",
    "        # print(x1,y1)\n",
    "        gaussian_writing(x+x1,y+y1)\n",
    "        test.openFile()\n",
    "        plurality(test.dictcandidates, test.dictvoters)\n",
    "        # print(\"1\" + str(error_dict))\n",
    "        error_dict[(x+x1,y+y1)] = erreur_totale(test.dictcandidates, test.dictvoters)\n",
    "        # print(\"2\" + str(error_dict))\n",
    "    # print(error_dict)\n",
    "    # print(min(error_dict, key=error_dict.get))    \n",
    "    x,y = min(error_dict, key=error_dict.get)\n",
    "    erreur = error_dict[(x,y)]\n",
    "    print(erreur,N)\n",
    "    pos_list.append((x,y))\n",
    "    print(x,y)\n",
    "    \n",
    "    \n",
    "        "
   ]
  },
  {
   "cell_type": "code",
   "execution_count": 29,
   "metadata": {},
   "outputs": [
    {
     "data": {
      "image/png": "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",
      "text/plain": [
       "<Figure size 432x288 with 1 Axes>"
      ]
     },
     "metadata": {
      "needs_background": "light"
     },
     "output_type": "display_data"
    }
   ],
   "source": [
    "%matplotlib inline\n",
    "import matplotlib.pyplot as plt\n",
    "plt.plot([x for (x,y) in pos_list], [y for (x,y) in pos_list])\n",
    "plt.xlim(-400,400)\n",
    "plt.ylim(-400,400)\n",
    "# plt.figure(figsize=(10,10))\n",
    "plt.show()"
   ]
  },
  {
   "cell_type": "code",
   "execution_count": 35,
   "metadata": {},
   "outputs": [
    {
     "name": "stdout",
     "output_type": "stream",
     "text": [
      "Emmanuel MACRON 21.7%\n",
      "Marine LE-PEN 22.9%\n",
      "Francois FILLON 15.6%\n",
      "Jean-Luc MELENCHON 2.3%\n",
      "Benoit HAMON 2.4%\n",
      "Nicolas DUPONT-AIGNAN 7.2%\n",
      "Jean LASSALLE 4.3%\n",
      "Philippe POUTOU 0.8%\n",
      "Francois ASSELINEAU 10.9%\n",
      "Nathalie ARTHAUD 1.1%\n",
      "Jacques CHEMINADE 10.8%\n"
     ]
    }
   ],
   "source": [
    "plurality(test.dictcandidates, test.dictvoters)\n",
    "for (_,v) in test.dictcandidates.items():\n",
    "    print(v.firstName + \" \" + v.lastName + \" \" + str(v.score/10) + \"%\")"
   ]
  },
  {
   "attachments": {},
   "cell_type": "markdown",
   "metadata": {},
   "source": [
    "On teste maintenant avec les résultats du second tour :"
   ]
  },
  {
   "cell_type": "code",
   "execution_count": 57,
   "metadata": {},
   "outputs": [
    {
     "name": "stdout",
     "output_type": "stream",
     "text": [
      "[Candidate_n° 2 Marine LE-PEN [ 50 , -250 ], Candidate_n° 1 Emmanuel MACRON [ 200 , 200 ]]\n",
      "test Marine LE-PEN\n",
      "ligne <candidates>\n",
      "\n",
      "test Emmanuel MACRON\n",
      "ligne <candidates>\n",
      "\n",
      "test Marine LE-PEN\n",
      "ligne Candidate_n° 1000 Emmanuel MACRON [ 200 , 200 ]\n",
      "\n",
      "test Emmanuel MACRON\n",
      "ligne Candidate_n° 1000 Emmanuel MACRON [ 200 , 200 ]\n",
      "\n",
      "test Marine LE-PEN\n",
      "ligne Candidate_n° 1001 Marine LE-PEN [ 50 , -250 ]\n",
      "\n",
      "test Marine LE-PEN\n",
      "ligne Candidate_n° 1002 Francois FILLON [ 400 , -150 ]\n",
      "\n",
      "test Emmanuel MACRON\n",
      "ligne Candidate_n° 1002 Francois FILLON [ 400 , -150 ]\n",
      "\n",
      "test Marine LE-PEN\n",
      "ligne Candidate_n° 1003 Jean-Luc MELENCHON [ -350 , 20 ]\n",
      "\n",
      "test Emmanuel MACRON\n",
      "ligne Candidate_n° 1003 Jean-Luc MELENCHON [ -350 , 20 ]\n",
      "\n",
      "test Marine LE-PEN\n",
      "ligne Candidate_n° 1004 Benoit HAMON [ -200 , 300 ]\n",
      "\n",
      "test Emmanuel MACRON\n",
      "ligne Candidate_n° 1004 Benoit HAMON [ -200 , 300 ]\n",
      "\n",
      "test Marine LE-PEN\n",
      "ligne Candidate_n° 1005 Nicolas DUPONT-AIGNAN [ -10 , -300 ]\n",
      "\n",
      "test Emmanuel MACRON\n",
      "ligne Candidate_n° 1005 Nicolas DUPONT-AIGNAN [ -10 , -300 ]\n",
      "\n",
      "test Marine LE-PEN\n",
      "ligne Candidate_n° 1006 Jean LASSALLE [ -250 , -150 ]\n",
      "\n",
      "test Emmanuel MACRON\n",
      "ligne Candidate_n° 1006 Jean LASSALLE [ -250 , -150 ]\n",
      "\n",
      "test Marine LE-PEN\n",
      "ligne Candidate_n° 1007 Philippe POUTOU [ -375 , 300 ]\n",
      "\n",
      "test Emmanuel MACRON\n",
      "ligne Candidate_n° 1007 Philippe POUTOU [ -375 , 300 ]\n",
      "\n",
      "test Marine LE-PEN\n",
      "ligne Candidate_n° 1008 Francois ASSELINEAU [ -200 , 200 ]\n",
      "\n",
      "test Emmanuel MACRON\n",
      "ligne Candidate_n° 1008 Francois ASSELINEAU [ -200 , 200 ]\n",
      "\n",
      "test Marine LE-PEN\n",
      "ligne Candidate_n° 1009 Nathalie ARTHAUD [ -360 , 100 ]\n",
      "\n",
      "test Emmanuel MACRON\n",
      "ligne Candidate_n° 1009 Nathalie ARTHAUD [ -360 , 100 ]\n",
      "\n",
      "test Marine LE-PEN\n",
      "ligne Candidate_n° 1010 Jacques CHEMINADE [ -175 , -175 ]\n",
      "\n",
      "test Emmanuel MACRON\n",
      "ligne Candidate_n° 1010 Jacques CHEMINADE [ -175 , -175 ]\n",
      "\n"
     ]
    }
   ],
   "source": [
    "best = dict(sorted(test.dictcandidates.items(), key=lambda item: item[1].score, reverse=True))\n",
    "new_best = []\n",
    "i=0\n",
    "for c in best.values():\n",
    "    if i == 2:\n",
    "        break\n",
    "    new_best.append(c)\n",
    "    i+=1\n",
    "print(new_best)\n",
    "    \n",
    "\n",
    "\n",
    "flag = False\n",
    "new_file = open(\"./files/candidats2.elct\", \"w+\",encoding=\"utf-8\")\n",
    "with open(\"./files/candidats.elct\", \"r\",encoding=\"utf-8\") as file:\n",
    "    for line in file:\n",
    "        if line == \"<candidates>\\n\":\n",
    "            flag = True\n",
    "            new_file.write(line)\n",
    "        if line == \"</candidates>\\n\":\n",
    "            flag = False\n",
    "        if flag:\n",
    "            for c in new_best:\n",
    "                print(\"test \" + c.firstName + \" \" + c.lastName)\n",
    "                print(\"ligne \" + line)\n",
    "                if c.firstName + \" \" + c.lastName in line:\n",
    "                    new_file.write(line)\n",
    "                    break\n",
    "        else:\n",
    "            new_file.write(line)\n"
   ]
  },
  {
   "attachments": {},
   "cell_type": "markdown",
   "metadata": {},
   "source": [
    "Contrairement à dans la réalité, le candidat trouvé par cette optimisation de l'erreur totale est Marine LE PEN, qui avait perdu le second tour."
   ]
>>>>>>> 6c9b2f981ef78f1817b63fc6d54d7a0fbf9301ae
  }
 ],
 "metadata": {
  "kernelspec": {
<<<<<<< HEAD
   "display_name": "Python 3 (ipykernel)",
=======
   "display_name": "Python 3",
>>>>>>> 6c9b2f981ef78f1817b63fc6d54d7a0fbf9301ae
   "language": "python",
   "name": "python3"
  },
  "language_info": {
   "codemirror_mode": {
    "name": "ipython",
    "version": 3
   },
   "file_extension": ".py",
   "mimetype": "text/x-python",
   "name": "python",
   "nbconvert_exporter": "python",
   "pygments_lexer": "ipython3",
<<<<<<< HEAD
   "version": "3.8.10"
  }
=======
   "version": "3.9.13"
  },
  "orig_nbformat": 4
>>>>>>> 6c9b2f981ef78f1817b63fc6d54d7a0fbf9301ae
 },
 "nbformat": 4,
 "nbformat_minor": 2
}
